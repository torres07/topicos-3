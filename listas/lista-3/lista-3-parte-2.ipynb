{
 "cells": [
  {
   "cell_type": "markdown",
   "metadata": {},
   "source": [
    "# Lista 03PT2 - Tópicos III"
   ]
  },
  {
   "cell_type": "code",
   "execution_count": 1,
   "metadata": {},
   "outputs": [
    {
     "name": "stderr",
     "output_type": "stream",
     "text": [
      "Using TensorFlow backend.\n",
      "/usr/lib/python3.6/importlib/_bootstrap.py:219: RuntimeWarning: numpy.dtype size changed, may indicate binary incompatibility. Expected 96, got 88\n",
      "  return f(*args, **kwds)\n",
      "/usr/lib/python3.6/importlib/_bootstrap.py:219: RuntimeWarning: numpy.dtype size changed, may indicate binary incompatibility. Expected 96, got 88\n",
      "  return f(*args, **kwds)\n"
     ]
    }
   ],
   "source": [
    "from keras import layers\n",
    "from keras import models\n",
    "from keras.utils import to_categorical\n",
    "import matplotlib.pyplot as plt\n",
    "from os import listdir, makedirs\n",
    "import numpy as np\n",
    "from keras.preprocessing.image import ImageDataGenerator\n",
    "from keras.applications import InceptionV3\n",
    "from keras.models import Sequential\n",
    "from keras.layers import Dense, Flatten, Dropout\n",
    "from keras import optimizers, regularizers"
   ]
  },
  {
   "cell_type": "code",
   "execution_count": 2,
   "metadata": {},
   "outputs": [
    {
     "name": "stdout",
     "output_type": "stream",
     "text": [
      "Found 4990 images belonging to 3 classes.\n",
      "Found 2136 images belonging to 3 classes.\n"
     ]
    }
   ],
   "source": [
    "# new_train folder just contains three class: c0 = normal driving, c5 = operating the radio and c6 = driking\n",
    "\n",
    "RESOLUTION = 150\n",
    "BATCH_SIZE = 20\n",
    "\n",
    "#if you need data augmentation processing\n",
    "#train_datagen = ImageDataGenerator(\n",
    "        #rescale=1./255,\n",
    "        #shear_range=0.2,\n",
    "        #zoom_range=0.2,\n",
    "        #horizontal_flip=True,\n",
    "        #validation_split=0.3)\n",
    "\n",
    "train_datagen = ImageDataGenerator(rescale=1./255, validation_split=0.3)\n",
    "val_datagen = ImageDataGenerator(rescale=1./255, validation_split=0.3)\n",
    "\n",
    "train_generator = train_datagen.flow_from_directory(\n",
    "        'all/imgs/new_train/',\n",
    "        target_size=(RESOLUTION, RESOLUTION),\n",
    "        batch_size=BATCH_SIZE,\n",
    "        class_mode='categorical', subset=\"training\")\n",
    "\n",
    "val_generator = val_datagen.flow_from_directory(\n",
    "        'all/imgs/new_train/',\n",
    "        target_size=(RESOLUTION, RESOLUTION),\n",
    "        batch_size=BATCH_SIZE,\n",
    "        class_mode='categorical', subset=\"validation\")"
   ]
  },
  {
   "cell_type": "code",
   "execution_count": 3,
   "metadata": {},
   "outputs": [
    {
     "name": "stdout",
     "output_type": "stream",
     "text": [
      "Downloading data from https://github.com/fchollet/deep-learning-models/releases/download/v0.5/inception_v3_weights_tf_dim_ordering_tf_kernels_notop.h5\n",
      "87916544/87910968 [==============================] - 77s 1us/step\n"
     ]
    }
   ],
   "source": [
    "conv_base = InceptionV3(include_top=False, input_shape=(150, 150, 3), weights='imagenet')"
   ]
  },
  {
   "cell_type": "code",
   "execution_count": 4,
   "metadata": {},
   "outputs": [],
   "source": [
    "def inception_v3_pretrained_model(model_inception_v3, dropout_=False, regularizer_=False, regularizer_weight=0.001):\n",
    "    model = Sequential()\n",
    "    model.add(model_inception_v3)\n",
    "    model.add(Flatten())\n",
    "    \n",
    "    if dropout_:\n",
    "        model.add(Dropout(0.5))\n",
    "    \n",
    "    if regularizer_:\n",
    "        model.add(Dense(256, activation='relu', kernel_regularizer=regularizers.l1_l2(l1=regularizer_weight, l2=regularizer_weight)))\n",
    "    \n",
    "    else:\n",
    "        model.add(Dense(256, activation='relu'))\n",
    "        # adjust here to 3 class\n",
    "        model.add(Dense(3, activation='softmax'))\n",
    "        model.summary()\n",
    "        model.compile(loss='categorical_crossentropy', optimizer=optimizers.RMSprop(lr=1e-5), metrics=['acc'])\n",
    "\n",
    "    return model"
   ]
  },
  {
   "cell_type": "code",
   "execution_count": 5,
   "metadata": {},
   "outputs": [
    {
     "name": "stdout",
     "output_type": "stream",
     "text": [
      "_________________________________________________________________\n",
      "Layer (type)                 Output Shape              Param #   \n",
      "=================================================================\n",
      "inception_v3 (Model)         (None, 3, 3, 2048)        21802784  \n",
      "_________________________________________________________________\n",
      "flatten_1 (Flatten)          (None, 18432)             0         \n",
      "_________________________________________________________________\n",
      "dense_1 (Dense)              (None, 256)               4718848   \n",
      "_________________________________________________________________\n",
      "dense_2 (Dense)              (None, 3)                 771       \n",
      "=================================================================\n",
      "Total params: 26,522,403\n",
      "Trainable params: 26,487,971\n",
      "Non-trainable params: 34,432\n",
      "_________________________________________________________________\n"
     ]
    }
   ],
   "source": [
    "model = inception_v3_pretrained_model(conv_base)"
   ]
  },
  {
   "cell_type": "code",
   "execution_count": 6,
   "metadata": {},
   "outputs": [
    {
     "name": "stdout",
     "output_type": "stream",
     "text": [
      "Epoch 1/20\n",
      "249/249 [==============================] - 394s 2s/step - loss: 0.4545 - acc: 0.8355 - val_loss: 0.1222 - val_acc: 0.9649\n",
      "Epoch 2/20\n",
      "249/249 [==============================] - 347s 1s/step - loss: 0.0548 - acc: 0.9861 - val_loss: 0.1130 - val_acc: 0.9752\n",
      "Epoch 3/20\n",
      "249/249 [==============================] - 340s 1s/step - loss: 0.0171 - acc: 0.9956 - val_loss: 0.0455 - val_acc: 0.9841\n",
      "Epoch 4/20\n",
      "249/249 [==============================] - 342s 1s/step - loss: 0.0068 - acc: 0.9976 - val_loss: 0.0673 - val_acc: 0.9817\n",
      "Epoch 5/20\n",
      "249/249 [==============================] - 344s 1s/step - loss: 0.0051 - acc: 0.9994 - val_loss: 0.0308 - val_acc: 0.9911\n",
      "Epoch 6/20\n",
      "249/249 [==============================] - 335s 1s/step - loss: 0.0018 - acc: 0.9998 - val_loss: 0.0268 - val_acc: 0.9944\n",
      "Epoch 7/20\n",
      "249/249 [==============================] - 335s 1s/step - loss: 0.0015 - acc: 0.9998 - val_loss: 0.1085 - val_acc: 0.9831\n",
      "Epoch 8/20\n",
      "249/249 [==============================] - 335s 1s/step - loss: 6.0276e-04 - acc: 0.9998 - val_loss: 0.0569 - val_acc: 0.9888\n",
      "Epoch 9/20\n",
      "249/249 [==============================] - 336s 1s/step - loss: 7.3152e-04 - acc: 0.9998 - val_loss: 0.0348 - val_acc: 0.9944\n",
      "Epoch 10/20\n",
      "249/249 [==============================] - 337s 1s/step - loss: 7.0391e-04 - acc: 0.9996 - val_loss: 0.0354 - val_acc: 0.9925\n",
      "Epoch 11/20\n",
      "249/249 [==============================] - 336s 1s/step - loss: 1.1875e-04 - acc: 1.0000 - val_loss: 0.0699 - val_acc: 0.9883\n",
      "Epoch 12/20\n",
      "249/249 [==============================] - 354s 1s/step - loss: 3.7419e-05 - acc: 1.0000 - val_loss: 0.0371 - val_acc: 0.9949\n",
      "Epoch 13/20\n",
      "249/249 [==============================] - 365s 1s/step - loss: 6.5230e-04 - acc: 0.9998 - val_loss: 0.0607 - val_acc: 0.9916\n",
      "Epoch 14/20\n",
      "249/249 [==============================] - 379s 2s/step - loss: 1.3371e-04 - acc: 1.0000 - val_loss: 0.0973 - val_acc: 0.9897\n",
      "Epoch 15/20\n",
      "249/249 [==============================] - 345s 1s/step - loss: 0.0021 - acc: 0.9994 - val_loss: 0.0446 - val_acc: 0.9934\n",
      "Epoch 16/20\n",
      "249/249 [==============================] - 346s 1s/step - loss: 3.9536e-04 - acc: 0.9998 - val_loss: 0.0666 - val_acc: 0.9920\n",
      "Epoch 17/20\n",
      "249/249 [==============================] - 366s 1s/step - loss: 1.9663e-05 - acc: 1.0000 - val_loss: 0.0362 - val_acc: 0.9934\n",
      "Epoch 18/20\n",
      "249/249 [==============================] - 345s 1s/step - loss: 4.6378e-05 - acc: 1.0000 - val_loss: 0.0362 - val_acc: 0.9939\n",
      "Epoch 19/20\n",
      "249/249 [==============================] - 346s 1s/step - loss: 1.0715e-05 - acc: 1.0000 - val_loss: 0.0644 - val_acc: 0.9906\n",
      "Epoch 20/20\n",
      "249/249 [==============================] - 359s 1s/step - loss: 2.4317e-05 - acc: 1.0000 - val_loss: 0.0410 - val_acc: 0.9920\n"
     ]
    }
   ],
   "source": [
    "N_TRAIN = 4990\n",
    "N_VAL = 2136\n",
    "history = model.fit_generator(\n",
    "        train_generator,\n",
    "        steps_per_epoch=(N_TRAIN // BATCH_SIZE),\n",
    "        epochs=20,\n",
    "        validation_data=val_generator,\n",
    "        validation_steps=(N_VAL // BATCH_SIZE) \n",
    "        )"
   ]
  },
  {
   "cell_type": "markdown",
   "metadata": {},
   "source": [
    "## Report (item 3)"
   ]
  },
  {
   "cell_type": "code",
   "execution_count": 7,
   "metadata": {
    "scrolled": false
   },
   "outputs": [
    {
     "data": {
      "text/plain": [
       "<matplotlib.legend.Legend at 0x7f595a0b3c18>"
      ]
     },
     "execution_count": 7,
     "metadata": {},
     "output_type": "execute_result"
    },
    {
     "data": {
      "image/png": "[encoded data removed]",
      "text/plain": [
       "<Figure size 432x288 with 1 Axes>"
      ]
     },
     "metadata": {},
     "output_type": "display_data"
    },
    {
     "data": {
      "image/png": "[encoded data removed]",
      "text/plain": [
       "<Figure size 432x288 with 1 Axes>"
      ]
     },
     "metadata": {},
     "output_type": "display_data"
    }
   ],
   "source": [
    "acc = history.history['acc']\n",
    "val_acc = history.history['val_acc']\n",
    "loss = history.history['loss']\n",
    "val_loss = history.history['val_loss']\n",
    "\n",
    "epochs = range(1, len(acc) + 1)\n",
    "\n",
    "plt.plot(epochs, acc, 'bo', label='Training acc')\n",
    "plt.plot(epochs, val_acc, 'b', label='Validation acc')\n",
    "plt.title('Training and validation accuracy')\n",
    "plt.legend(loc='best')\n",
    "\n",
    "plt.figure()\n",
    "plt.plot(epochs, loss, 'bo', label='Training loss')\n",
    "plt.plot(epochs, val_loss, 'b', label='Validation loss')\n",
    "plt.title('Training and validation loss')\n",
    "plt.legend(loc='best')"
   ]
  }
 ],
 "metadata": {
  "kernelspec": {
   "display_name": "Python 3",
   "language": "python",
   "name": "python3"
  },
  "language_info": {
   "codemirror_mode": {
    "name": "ipython",
    "version": 3
   },
   "file_extension": ".py",
   "mimetype": "text/x-python",
   "name": "python",
   "nbconvert_exporter": "python",
   "pygments_lexer": "ipython3",
   "version": "3.6.6"
  }
 },
 "nbformat": 4,
 "nbformat_minor": 2
}
