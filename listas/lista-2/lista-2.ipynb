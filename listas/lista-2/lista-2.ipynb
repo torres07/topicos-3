{
 "cells": [
  {
   "cell_type": "markdown",
   "metadata": {},
   "source": [
    "# Lista 02 - Tópicos III"
   ]
  },
  {
   "cell_type": "code",
   "execution_count": 1,
   "metadata": {},
   "outputs": [],
   "source": [
    "%matplotlib inline\n",
    "\n",
    "import numpy as np\n",
    "import pandas as pd\n",
    "from matplotlib import pyplot as plt"
   ]
  },
  {
   "cell_type": "code",
   "execution_count": 2,
   "metadata": {
    "scrolled": true
   },
   "outputs": [
    {
     "data": {
      "text/html": [
       "<div>\n",
       "<style scoped>\n",
       "    .dataframe tbody tr th:only-of-type {\n",
       "        vertical-align: middle;\n",
       "    }\n",
       "\n",
       "    .dataframe tbody tr th {\n",
       "        vertical-align: top;\n",
       "    }\n",
       "\n",
       "    .dataframe thead th {\n",
       "        text-align: right;\n",
       "    }\n",
       "</style>\n",
       "<table border=\"1\" class=\"dataframe\">\n",
       "  <thead>\n",
       "    <tr style=\"text-align: right;\">\n",
       "      <th></th>\n",
       "      <th>0</th>\n",
       "      <th>1</th>\n",
       "      <th>2</th>\n",
       "      <th>3</th>\n",
       "      <th>4</th>\n",
       "      <th>5</th>\n",
       "      <th>6</th>\n",
       "      <th>7</th>\n",
       "      <th>8</th>\n",
       "      <th>9</th>\n",
       "      <th>10</th>\n",
       "    </tr>\n",
       "  </thead>\n",
       "  <tbody>\n",
       "    <tr>\n",
       "      <th>0</th>\n",
       "      <td>1000025</td>\n",
       "      <td>5</td>\n",
       "      <td>1</td>\n",
       "      <td>1</td>\n",
       "      <td>1</td>\n",
       "      <td>2</td>\n",
       "      <td>1</td>\n",
       "      <td>3</td>\n",
       "      <td>1</td>\n",
       "      <td>1</td>\n",
       "      <td>2</td>\n",
       "    </tr>\n",
       "    <tr>\n",
       "      <th>1</th>\n",
       "      <td>1002945</td>\n",
       "      <td>5</td>\n",
       "      <td>4</td>\n",
       "      <td>4</td>\n",
       "      <td>5</td>\n",
       "      <td>7</td>\n",
       "      <td>10</td>\n",
       "      <td>3</td>\n",
       "      <td>2</td>\n",
       "      <td>1</td>\n",
       "      <td>2</td>\n",
       "    </tr>\n",
       "    <tr>\n",
       "      <th>2</th>\n",
       "      <td>1015425</td>\n",
       "      <td>3</td>\n",
       "      <td>1</td>\n",
       "      <td>1</td>\n",
       "      <td>1</td>\n",
       "      <td>2</td>\n",
       "      <td>2</td>\n",
       "      <td>3</td>\n",
       "      <td>1</td>\n",
       "      <td>1</td>\n",
       "      <td>2</td>\n",
       "    </tr>\n",
       "    <tr>\n",
       "      <th>3</th>\n",
       "      <td>1016277</td>\n",
       "      <td>6</td>\n",
       "      <td>8</td>\n",
       "      <td>8</td>\n",
       "      <td>1</td>\n",
       "      <td>3</td>\n",
       "      <td>4</td>\n",
       "      <td>3</td>\n",
       "      <td>7</td>\n",
       "      <td>1</td>\n",
       "      <td>2</td>\n",
       "    </tr>\n",
       "    <tr>\n",
       "      <th>4</th>\n",
       "      <td>1017023</td>\n",
       "      <td>4</td>\n",
       "      <td>1</td>\n",
       "      <td>1</td>\n",
       "      <td>3</td>\n",
       "      <td>2</td>\n",
       "      <td>1</td>\n",
       "      <td>3</td>\n",
       "      <td>1</td>\n",
       "      <td>1</td>\n",
       "      <td>2</td>\n",
       "    </tr>\n",
       "  </tbody>\n",
       "</table>\n",
       "</div>"
      ],
      "text/plain": [
       "        0   1   2   3   4   5   6   7   8   9   10\n",
       "0  1000025   5   1   1   1   2   1   3   1   1   2\n",
       "1  1002945   5   4   4   5   7  10   3   2   1   2\n",
       "2  1015425   3   1   1   1   2   2   3   1   1   2\n",
       "3  1016277   6   8   8   1   3   4   3   7   1   2\n",
       "4  1017023   4   1   1   3   2   1   3   1   1   2"
      ]
     },
     "execution_count": 2,
     "metadata": {},
     "output_type": "execute_result"
    }
   ],
   "source": [
    "data = pd.read_csv('breast-cancer-wisconsin.csv', header=None, delimiter=';')\n",
    "\n",
    "# some values of column 6 are = '?', i replace this values with 1\n",
    "data[6] = data[6].apply(lambda x: 1 if x == '?' else int(x))\n",
    "\n",
    "data.head()"
   ]
  },
  {
   "cell_type": "markdown",
   "metadata": {},
   "source": [
    "## Separating data in training and test"
   ]
  },
  {
   "cell_type": "code",
   "execution_count": 3,
   "metadata": {},
   "outputs": [],
   "source": [
    "from sklearn.model_selection import train_test_split\n",
    "\n",
    "X = data.iloc[:, 1:10].values\n",
    "y = data.iloc[:, -1].values\n",
    "# 0 for benign, 1 for malignamt\n",
    "y = np.where(y == 2, 0, 1)\n",
    "\n",
    "X_train, X_test, y_train, y_test = train_test_split(X, y, test_size=0.30, random_state=17)"
   ]
  },
  {
   "cell_type": "markdown",
   "metadata": {},
   "source": [
    "## Multi-layer perceptron implementation"
   ]
  },
  {
   "cell_type": "code",
   "execution_count": 4,
   "metadata": {},
   "outputs": [],
   "source": [
    "class MLP(object):\n",
    "    def __init__(self, f_act='sigmoid', n_hidden=15, l2=0.0, epochs=20, lr=0.001, shuffle=True, minibatch_size=1, seed=None):\n",
    "        self.f_act = f_act\n",
    "        self.random = np.random.RandomState(seed)\n",
    "        self.n_hidden = n_hidden\n",
    "        # Lambda value for L2-regularization.\n",
    "        self.l2 = l2\n",
    "        self.epochs = epochs\n",
    "        self.lr = lr\n",
    "        self.shuffle = shuffle\n",
    "        self.minibatch_size = minibatch_size\n",
    "    \n",
    "    # activation_function (sigmoid)\n",
    "    def _sigmoid(self, z):\n",
    "        return 1.0 / (1.0 + np.exp(-np.clip(z, -250, 250)))\n",
    "        \n",
    "    # activation_function (tanh)\n",
    "    def _tanh(self, z):\n",
    "        return np.tanh(z)\n",
    "        \n",
    "    def _forward(self, X):\n",
    "        # net input of hidden layer\n",
    "        z_hidden = np.dot(X, self.weight_hidden) + self.b_hidden\n",
    "        \n",
    "        # activation of hidden layer\n",
    "        if self.f_act == 'tanh':\n",
    "            activation_hidden = self._tanh(z_hidden)\n",
    "        else:\n",
    "            activation_hidden = self._sigmoid(z_hidden)\n",
    "        \n",
    "        # net input of out layer\n",
    "        z_out = np.dot(activation_hidden, self.weight_out) + self.b_out\n",
    "        \n",
    "        # activation of output layer\n",
    "        if self.f_act == 'arctan':\n",
    "            activation_out = self._tanh(z_out)\n",
    "        else:\n",
    "            activation_out = self._sigmoid(z_out)\n",
    "        \n",
    "        return z_hidden, activation_hidden, z_out, activation_out\n",
    "        \n",
    "    def _compute_cost(self, y_enc, output):\n",
    "        l2_term = self.l2 * (np.sum(self.weight_hidden ** 2.0) + np.sum(self.weight_out ** 2.0))\n",
    "        \n",
    "        term_1 = -y_enc * np.log(output)\n",
    "        term_2 = (1.0 - y_enc) * np.log(1.0 - output)\n",
    "        cost = np.sum(term_1 - term_2) + l2_term\n",
    "        \n",
    "        return cost\n",
    "    \n",
    "    def predict(self, X):\n",
    "        # only z_out matters\n",
    "        z_out = self._forward(X)[2]\n",
    "        y_pred = np.argmax(z_out, axis=1)\n",
    "        return y_pred\n",
    "    \n",
    "    def _onehot(self, y, n_classes):\n",
    "        onehot = np.zeros((n_classes, y.shape[0]))\n",
    "        for idx, val in enumerate(y.astype(int)):\n",
    "            onehot[val, idx] = 1.\n",
    "        return onehot.T\n",
    "    \n",
    "    def fit(self, X_train, y_train, X_test, y_test):\n",
    "        n_output = np.unique(y_train).shape[0]\n",
    "        n_features = X_train.shape[1]\n",
    "        \n",
    "        self.b_hidden = np.zeros(self.n_hidden)\n",
    "        self.weight_hidden = self.random.normal(loc=0.0, scale=0.1, size=(n_features, self.n_hidden))\n",
    "        \n",
    "        self.b_out = np.zeros(n_output)\n",
    "        self.weight_out = self.random.normal(loc=0.0, scale=0.1, size=(self.n_hidden, n_output))\n",
    "    \n",
    "        self.eval_ = {'cost': [], 'train_acc': [], 'test_acc': []}\n",
    "        \n",
    "        # new y encoded\n",
    "        y_train_enc = self._onehot(y_train, n_output)\n",
    "        \n",
    "        for i in range(self.epochs):\n",
    "            indices = np.arange(X_train.shape[0])\n",
    "            \n",
    "            if self.shuffle:\n",
    "                self.random.shuffle(indices)\n",
    "            \n",
    "            for start_idx in range(0, indices.shape[0] - self.minibatch_size + 1, self.minibatch_size):\n",
    "                batch_idx = indices[start_idx:start_idx + self.minibatch_size]\n",
    "                \n",
    "                z_hidden, activation_hidden, z_out, activation_out = self._forward(X_train[batch_idx])\n",
    "\n",
    "                # backpropragation starts here\n",
    "                \n",
    "                sigma_out = activation_out - y_train_enc[batch_idx]\n",
    "                \n",
    "                # when using sigmoid as activation function\n",
    "                if self.f_act == 'tanh':\n",
    "                    activation_derivate_hidden = (1.0 - (activation_hidden ** 2))\n",
    "                else:\n",
    "                    # sigmoid\n",
    "                    activation_derivate_hidden = activation_hidden * (1.0 - activation_hidden)\n",
    "                \n",
    "                sigma_hidden = np.dot(sigma_out, self.weight_out.T) * activation_derivate_hidden\n",
    "                \n",
    "                grad_weight_hidden = np.dot(X_train[batch_idx].T, sigma_hidden)\n",
    "                grad_b_hidden = np.sum(sigma_hidden, axis=0)\n",
    "                \n",
    "                grad_weight_out = np.dot(activation_hidden.T, sigma_out)\n",
    "                grad_b_out = np.sum(sigma_out, axis=0)\n",
    "                \n",
    "                # Regularization and weight updates\n",
    "                \n",
    "                # in hidden layer\n",
    "                delta_weight_hidden = (grad_weight_hidden + self.l2 * self.weight_hidden)\n",
    "                delta_b_hidden = grad_b_hidden # bias (not regularized)\n",
    "                self.weight_hidden -= self.lr * delta_weight_hidden\n",
    "                self.b_hidden -= self.lr * delta_b_hidden\n",
    "\n",
    "                # in output layer\n",
    "                delta_weight_out = (grad_weight_out + self.l2 * self.weight_out)\n",
    "                delta_b_out = grad_b_out  # same here\n",
    "                self.weight_out -= self.lr * delta_weight_out\n",
    "                self.b_out -= self.lr * delta_b_out\n",
    "            \n",
    "            # evaluation starts here\n",
    "            \n",
    "            # for each epoch, after backpropagation ends evaluate training\n",
    "            z_hidden, activation_hidden, z_out, activation_out = self._forward(X_train)\n",
    "            \n",
    "            cost = self._compute_cost(y_enc=y_train_enc, output=activation_out)\n",
    "            \n",
    "            y_train_predicted = self.predict(X_train)\n",
    "            y_test_predicted = self.predict(X_test)\n",
    "            \n",
    "            # accuracy for train and test\n",
    "            train_acc = ((np.sum(y_train == y_train_predicted)).astype(np.float) /\n",
    "             X_train.shape[0])\n",
    "            test_acc = ((np.sum(y_test == y_test_predicted)).astype(np.float) /\n",
    "                         X_test.shape[0])\n",
    "            \n",
    "            \n",
    "            self.eval_['cost'].append(cost)\n",
    "            self.eval_['train_acc'].append(train_acc)\n",
    "            self.eval_['test_acc'].append(test_acc)\n",
    "    \n",
    "        return self"
   ]
  },
  {
   "cell_type": "markdown",
   "metadata": {},
   "source": [
    "## Report (item 1)"
   ]
  },
  {
   "cell_type": "code",
   "execution_count": 10,
   "metadata": {},
   "outputs": [
    {
     "data": {
      "image/png": "[encoded data removed]",
      "text/plain": [
       "<Figure size 432x288 with 1 Axes>"
      ]
     },
     "metadata": {},
     "output_type": "display_data"
    }
   ],
   "source": [
    "mlp = MLP(n_hidden=100, \n",
    "          l2=0.01, \n",
    "          epochs=20, \n",
    "          lr=0.001,\n",
    "          shuffle=True,\n",
    "          seed=7)\n",
    "\n",
    "mlp.fit(X_train, y_train, X_test, y_test)\n",
    "\n",
    "plt.plot(range(mlp.epochs), mlp.eval_['cost'])\n",
    "plt.ylabel('Cost')\n",
    "plt.xlabel('Epochs')\n",
    "plt.title('MLP Sigmoid - Cost')\n",
    "plt.show()"
   ]
  },
  {
   "cell_type": "markdown",
   "metadata": {},
   "source": [
    "## Sigmoid x TanH (item 2)"
   ]
  },
  {
   "cell_type": "code",
   "execution_count": 6,
   "metadata": {},
   "outputs": [
    {
     "data": {
      "image/png": "[encoded data removed]",
      "text/plain": [
       "<Figure size 432x288 with 1 Axes>"
      ]
     },
     "metadata": {},
     "output_type": "display_data"
    }
   ],
   "source": [
    "mlp_tanh = MLP(n_hidden=100, \n",
    "          f_act='tanh',\n",
    "          l2=0.01, \n",
    "          epochs=20, \n",
    "          lr=0.001,\n",
    "          shuffle=True,\n",
    "          seed=7)\n",
    "\n",
    "mlp_tanh.fit(X_train, y_train, X_test, y_test)\n",
    "\n",
    "plt.plot(range(mlp.epochs), mlp.eval_['test_acc'], label='Sigmoid')\n",
    "plt.plot(range(mlp_tanh.epochs), mlp_tanh.eval_['test_acc'], label='TanH')\n",
    "plt.ylabel('Cost')\n",
    "plt.xlabel('Epochs')\n",
    "plt.title('Sigmoid x TanH - Accuracy')\n",
    "plt.legend()\n",
    "plt.show()"
   ]
  },
  {
   "cell_type": "code",
   "execution_count": 7,
   "metadata": {},
   "outputs": [
    {
     "data": {
      "image/png": "[encoded data removed]",
      "text/plain": [
       "<Figure size 432x288 with 1 Axes>"
      ]
     },
     "metadata": {},
     "output_type": "display_data"
    }
   ],
   "source": [
    "mlp_tanh = MLP(n_hidden=100, \n",
    "          f_act='tanh',\n",
    "          l2=0.01, \n",
    "          epochs=20, \n",
    "          lr=0.001,\n",
    "          shuffle=True,\n",
    "          seed=7)\n",
    "\n",
    "mlp_tanh.fit(X_train, y_train, X_test, y_test)\n",
    "\n",
    "plt.plot(range(mlp.epochs), mlp.eval_['cost'], label='Sigmoid')\n",
    "plt.plot(range(mlp_tanh.epochs), mlp_tanh.eval_['cost'], label='TanH')\n",
    "plt.ylabel('Cost')\n",
    "plt.xlabel('Epochs')\n",
    "plt.title('Sigmoid x TanH - Cost')\n",
    "plt.legend()\n",
    "plt.show()"
   ]
  },
  {
   "cell_type": "markdown",
   "metadata": {},
   "source": [
    "## Backpropagation calc w_6 (item 3)"
   ]
  },
  {
   "cell_type": "code",
   "execution_count": 11,
   "metadata": {},
   "outputs": [
    {
     "data": {
      "text/latex": [
       "\n",
       "$$\\frac{\\partial net_{o1}}{\\partial w_6} = 1 * out_{h2} * w_{6}^{(1-1)} + 0 + 0 = out_{h2} = 0.5968844378$$\n",
       "\n",
       "$$\\frac{\\partial E_{total}}{\\partial w_6} = \\frac{\\partial E_{total}}{\\partial out_{o1}} *\n",
       "  \\frac{\\partial out_{o1}}{\\partial net_{o1}} * \\frac{\\partial net_{o1}}{\\partial w_6}$$\n",
       "  \n",
       "$$\\frac{\\partial E_{total}}{\\partial w_6} = 0.74136507 * 0.186815602 * 0.5968844378 = 0.0826676362$$\n",
       "\n",
       "$$w_6^+ = w_6 - \\eta * \\frac{\\partial E_{total}}{\\partial w_6} = 0.45 - 0.5*0.0826676362 = 0.40866618198$$"
      ],
      "text/plain": [
       "<IPython.core.display.Latex object>"
      ]
     },
     "metadata": {},
     "output_type": "display_data"
    }
   ],
   "source": [
    "%%latex\n",
    "\n",
    "$$\\frac{\\partial net_{o1}}{\\partial w_6} = 1 * out_{h2} * w_{6}^{(1-1)} + 0 + 0 = out_{h2} = 0.5968844378$$\n",
    "\n",
    "$$\\frac{\\partial E_{total}}{\\partial w_6} = \\frac{\\partial E_{total}}{\\partial out_{o1}} *\n",
    "  \\frac{\\partial out_{o1}}{\\partial net_{o1}} * \\frac{\\partial net_{o1}}{\\partial w_6}$$\n",
    "  \n",
    "$$\\frac{\\partial E_{total}}{\\partial w_6} = 0.74136507 * 0.186815602 * 0.5968844378 = 0.0826676362$$\n",
    "\n",
    "$$w_6^+ = w_6 - \\eta * \\frac{\\partial E_{total}}{\\partial w_6} = 0.45 - 0.5*0.0826676362 = 0.40866618198$$"
   ]
  },
  {
   "cell_type": "code",
   "execution_count": null,
   "metadata": {},
   "outputs": [],
   "source": []
  }
 ],
 "metadata": {
  "kernelspec": {
   "display_name": "Python 3",
   "language": "python",
   "name": "python3"
  },
  "language_info": {
   "codemirror_mode": {
    "name": "ipython",
    "version": 3
   },
   "file_extension": ".py",
   "mimetype": "text/x-python",
   "name": "python",
   "nbconvert_exporter": "python",
   "pygments_lexer": "ipython3",
   "version": "3.6.4"
  }
 },
 "nbformat": 4,
 "nbformat_minor": 2
}
