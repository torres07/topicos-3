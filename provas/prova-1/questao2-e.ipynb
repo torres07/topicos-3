{
 "cells": [
  {
   "cell_type": "code",
   "execution_count": 1,
   "metadata": {
    "_cell_guid": "b1076dfc-b9ad-4769-8c92-a6c4dae69d19",
    "_uuid": "8f2839f25d086af736a60e9eeb907d3b93b6e0e5"
   },
   "outputs": [
    {
     "name": "stderr",
     "output_type": "stream",
     "text": [
      "Using TensorFlow backend.\n"
     ]
    }
   ],
   "source": [
    "from keras import layers\n",
    "from keras import models\n",
    "from keras.utils import to_categorical\n",
    "import matplotlib.pyplot as plt\n",
    "import os\n",
    "import numpy as np\n",
    "from keras.preprocessing.image import ImageDataGenerator\n",
    "from keras.applications import VGG16\n",
    "from keras.models import Sequential\n",
    "from keras.layers import Dense, Flatten, Dropout\n",
    "from keras import optimizers, regularizers"
   ]
  },
  {
   "cell_type": "code",
   "execution_count": 7,
   "metadata": {
    "_cell_guid": "79c7e3d0-c299-4dcb-8224-4455121ee9b0",
    "_uuid": "d629ff2d2480ee46fbb7e2d37f6b5fab8052498a"
   },
   "outputs": [
    {
     "name": "stdout",
     "output_type": "stream",
     "text": [
      "Found 11745 images belonging to 10 classes.\n",
      "Found 2066 images belonging to 10 classes.\n"
     ]
    }
   ],
   "source": [
    "RESOLUTION = 150\n",
    "BATCH_SIZE = 128\n",
    "\n",
    "train_datagen = ImageDataGenerator(rescale=1./255, validation_split=0.15)\n",
    "val_datagen = ImageDataGenerator(rescale=1./255, validation_split=0.15)\n",
    "\n",
    "train_generator = train_datagen.flow_from_directory(\n",
    "        '../input/thesimpsonsdatasetfiltered/the-simpsons-dataset/the-simpsons-dataset/top-10/',\n",
    "        target_size=(RESOLUTION, RESOLUTION),\n",
    "        class_mode='categorical', subset=\"training\")\n",
    "\n",
    "val_generator = val_datagen.flow_from_directory(\n",
    "        '../input/thesimpsonsdatasetfiltered/the-simpsons-dataset/the-simpsons-dataset/top-10/',\n",
    "        target_size=(RESOLUTION, RESOLUTION),\n",
    "        class_mode='categorical', subset=\"validation\")"
   ]
  },
  {
   "cell_type": "code",
   "execution_count": 8,
   "metadata": {
    "_uuid": "c597be2448b235f6522263e7be297bfe1d793f56",
    "scrolled": true
   },
   "outputs": [
    {
     "data": {
      "text/plain": [
       "{'bart_simpson': 0,\n",
       " 'charles_montgomery_burns': 1,\n",
       " 'homer_simpson': 2,\n",
       " 'krusty_the_clown': 3,\n",
       " 'lisa_simpson': 4,\n",
       " 'marge_simpson': 5,\n",
       " 'milhouse_van_houten': 6,\n",
       " 'moe_szyslak': 7,\n",
       " 'ned_flanders': 8,\n",
       " 'principal_skinner': 9}"
      ]
     },
     "execution_count": 8,
     "metadata": {},
     "output_type": "execute_result"
    }
   ],
   "source": [
    "train_generator.class_indices"
   ]
  },
  {
   "cell_type": "markdown",
   "metadata": {
    "_uuid": "2d20b24db8eea84cad77a5cd815c92ff61029e5c"
   },
   "source": [
    "# Questão 2e."
   ]
  },
  {
   "cell_type": "code",
   "execution_count": 10,
   "metadata": {
    "_uuid": "db5b597dcdb8f0de6ffd5e43e340eaa615f59d6b"
   },
   "outputs": [
    {
     "name": "stdout",
     "output_type": "stream",
     "text": [
      "_________________________________________________________________\n",
      "Layer (type)                 Output Shape              Param #   \n",
      "=================================================================\n",
      "input_1 (InputLayer)         (None, 150, 150, 3)       0         \n",
      "_________________________________________________________________\n",
      "block1_conv1 (Conv2D)        (None, 150, 150, 64)      1792      \n",
      "_________________________________________________________________\n",
      "block1_conv2 (Conv2D)        (None, 150, 150, 64)      36928     \n",
      "_________________________________________________________________\n",
      "block1_pool (MaxPooling2D)   (None, 75, 75, 64)        0         \n",
      "_________________________________________________________________\n",
      "block2_conv1 (Conv2D)        (None, 75, 75, 128)       73856     \n",
      "_________________________________________________________________\n",
      "block2_conv2 (Conv2D)        (None, 75, 75, 128)       147584    \n",
      "_________________________________________________________________\n",
      "block2_pool (MaxPooling2D)   (None, 37, 37, 128)       0         \n",
      "_________________________________________________________________\n",
      "block3_conv1 (Conv2D)        (None, 37, 37, 256)       295168    \n",
      "_________________________________________________________________\n",
      "block3_conv2 (Conv2D)        (None, 37, 37, 256)       590080    \n",
      "_________________________________________________________________\n",
      "block3_conv3 (Conv2D)        (None, 37, 37, 256)       590080    \n",
      "_________________________________________________________________\n",
      "block3_pool (MaxPooling2D)   (None, 18, 18, 256)       0         \n",
      "_________________________________________________________________\n",
      "block4_conv1 (Conv2D)        (None, 18, 18, 512)       1180160   \n",
      "_________________________________________________________________\n",
      "block4_conv2 (Conv2D)        (None, 18, 18, 512)       2359808   \n",
      "_________________________________________________________________\n",
      "block4_conv3 (Conv2D)        (None, 18, 18, 512)       2359808   \n",
      "_________________________________________________________________\n",
      "block4_pool (MaxPooling2D)   (None, 9, 9, 512)         0         \n",
      "_________________________________________________________________\n",
      "block5_conv1 (Conv2D)        (None, 9, 9, 512)         2359808   \n",
      "_________________________________________________________________\n",
      "block5_conv2 (Conv2D)        (None, 9, 9, 512)         2359808   \n",
      "_________________________________________________________________\n",
      "block5_conv3 (Conv2D)        (None, 9, 9, 512)         2359808   \n",
      "_________________________________________________________________\n",
      "block5_pool (MaxPooling2D)   (None, 4, 4, 512)         0         \n",
      "=================================================================\n",
      "Total params: 14,714,688\n",
      "Trainable params: 14,714,688\n",
      "Non-trainable params: 0\n",
      "_________________________________________________________________\n"
     ]
    }
   ],
   "source": [
    "path = '../input/keras-pretrained-models/vgg16_weights_tf_dim_ordering_tf_kernels_notop.h5'\n",
    "conv_base = VGG16(include_top=False, input_shape=(150, 150, 3), weights=path)\n",
    "conv_base.summary()"
   ]
  },
  {
   "cell_type": "code",
   "execution_count": 11,
   "metadata": {
    "_uuid": "ba4c87c08d432ba6f2adcab4319bc82157512faf"
   },
   "outputs": [],
   "source": [
    "# fine tuning\n",
    "\n",
    "def create_model(conv_base, first_trainable_layer='block5_conv3'): \n",
    "    \n",
    "    model = Sequential()\n",
    "    model.add(conv_base)\n",
    "    \n",
    "    set_trainable = False\n",
    "    for layer in conv_base.layers:\n",
    "        if layer.name == first_trainable_layer:\n",
    "            set_trainable = True\n",
    "        if set_trainable:\n",
    "            layer.trainable = True\n",
    "        else:\n",
    "            layer.trainable = False\n",
    "            \n",
    "    model.add(Flatten())\n",
    "    model.add(Dense(units=64, activation='relu'))\n",
    "    model.add(Dense(units=10, activation='softmax'))\n",
    "    \n",
    "    return model"
   ]
  },
  {
   "cell_type": "code",
   "execution_count": 12,
   "metadata": {
    "_uuid": "e8eec3364dcd3ef17fb9f4207843ec60d9138f60"
   },
   "outputs": [
    {
     "name": "stdout",
     "output_type": "stream",
     "text": [
      "_________________________________________________________________\n",
      "Layer (type)                 Output Shape              Param #   \n",
      "=================================================================\n",
      "vgg16 (Model)                (None, 4, 4, 512)         14714688  \n",
      "_________________________________________________________________\n",
      "flatten_1 (Flatten)          (None, 8192)              0         \n",
      "_________________________________________________________________\n",
      "dense_1 (Dense)              (None, 64)                524352    \n",
      "_________________________________________________________________\n",
      "dense_2 (Dense)              (None, 10)                650       \n",
      "=================================================================\n",
      "Total params: 15,239,690\n",
      "Trainable params: 2,884,810\n",
      "Non-trainable params: 12,354,880\n",
      "_________________________________________________________________\n"
     ]
    }
   ],
   "source": [
    "model = create_model(conv_base)\n",
    "model.summary()"
   ]
  },
  {
   "cell_type": "code",
   "execution_count": 13,
   "metadata": {
    "_uuid": "ebfa6ef7a0f29b91646a82966e581a11ac82a112",
    "scrolled": true
   },
   "outputs": [
    {
     "name": "stdout",
     "output_type": "stream",
     "text": [
      "Epoch 1/50\n",
      "91/91 [==============================] - 22s 243ms/step - loss: 2.5798 - acc: 0.4609 - val_loss: 1.4246 - val_acc: 0.5703\n",
      "Epoch 2/50\n",
      "91/91 [==============================] - 18s 198ms/step - loss: 0.7788 - acc: 0.7493 - val_loss: 0.7997 - val_acc: 0.7422\n",
      "Epoch 3/50\n",
      "91/91 [==============================] - 18s 196ms/step - loss: 0.6134 - acc: 0.8101 - val_loss: 0.9547 - val_acc: 0.7031\n",
      "Epoch 4/50\n",
      "91/91 [==============================] - 18s 197ms/step - loss: 0.5408 - acc: 0.8341 - val_loss: 0.6428 - val_acc: 0.8223\n",
      "Epoch 5/50\n",
      "91/91 [==============================] - 19s 208ms/step - loss: 0.3703 - acc: 0.8970 - val_loss: 0.6938 - val_acc: 0.8133\n",
      "Epoch 6/50\n",
      "91/91 [==============================] - 17s 190ms/step - loss: 0.3267 - acc: 0.9001 - val_loss: 0.7239 - val_acc: 0.8320\n",
      "Epoch 7/50\n",
      "91/91 [==============================] - 17s 191ms/step - loss: 0.3655 - acc: 0.8905 - val_loss: 0.7073 - val_acc: 0.8203\n",
      "Epoch 8/50\n",
      "91/91 [==============================] - 17s 190ms/step - loss: 0.3522 - acc: 0.8977 - val_loss: 0.5641 - val_acc: 0.8301\n",
      "Epoch 9/50\n",
      "91/91 [==============================] - 17s 189ms/step - loss: 0.1976 - acc: 0.9382 - val_loss: 0.8619 - val_acc: 0.7932\n",
      "Epoch 10/50\n",
      "91/91 [==============================] - 17s 191ms/step - loss: 0.1956 - acc: 0.9447 - val_loss: 0.5239 - val_acc: 0.8652\n",
      "Epoch 11/50\n",
      "91/91 [==============================] - 17s 191ms/step - loss: 0.2070 - acc: 0.9440 - val_loss: 0.9136 - val_acc: 0.8125\n",
      "Epoch 12/50\n",
      "91/91 [==============================] - 17s 191ms/step - loss: 0.2000 - acc: 0.9427 - val_loss: 0.8688 - val_acc: 0.8203\n",
      "Epoch 13/50\n",
      "91/91 [==============================] - 17s 189ms/step - loss: 0.1161 - acc: 0.9646 - val_loss: 0.8980 - val_acc: 0.8414\n",
      "Epoch 14/50\n",
      "91/91 [==============================] - 17s 191ms/step - loss: 0.1134 - acc: 0.9657 - val_loss: 0.9375 - val_acc: 0.8418\n",
      "Epoch 15/50\n",
      "91/91 [==============================] - 17s 191ms/step - loss: 0.1149 - acc: 0.9619 - val_loss: 1.3272 - val_acc: 0.8145\n",
      "Epoch 16/50\n",
      "91/91 [==============================] - 17s 191ms/step - loss: 0.1453 - acc: 0.9595 - val_loss: 0.9097 - val_acc: 0.8223\n",
      "Epoch 17/50\n",
      "91/91 [==============================] - 17s 189ms/step - loss: 0.0921 - acc: 0.9732 - val_loss: 0.9161 - val_acc: 0.8313\n",
      "Epoch 18/50\n",
      "91/91 [==============================] - 17s 190ms/step - loss: 0.0770 - acc: 0.9770 - val_loss: 0.9680 - val_acc: 0.8457\n",
      "Epoch 19/50\n",
      "91/91 [==============================] - 17s 190ms/step - loss: 0.0857 - acc: 0.9763 - val_loss: 1.1566 - val_acc: 0.8438\n",
      "Epoch 20/50\n",
      "91/91 [==============================] - 17s 190ms/step - loss: 0.0986 - acc: 0.9756 - val_loss: 1.1473 - val_acc: 0.8242\n",
      "Epoch 21/50\n",
      "91/91 [==============================] - 17s 189ms/step - loss: 0.0847 - acc: 0.9780 - val_loss: 1.4176 - val_acc: 0.7992\n",
      "Epoch 22/50\n",
      "91/91 [==============================] - 17s 191ms/step - loss: 0.0771 - acc: 0.9780 - val_loss: 1.3437 - val_acc: 0.8242\n",
      "Epoch 23/50\n",
      "91/91 [==============================] - 17s 191ms/step - loss: 0.0803 - acc: 0.9794 - val_loss: 1.1120 - val_acc: 0.8535\n",
      "Epoch 24/50\n",
      "91/91 [==============================] - 17s 191ms/step - loss: 0.0873 - acc: 0.9770 - val_loss: 1.2680 - val_acc: 0.8184\n",
      "Epoch 25/50\n",
      "91/91 [==============================] - 17s 189ms/step - loss: 0.0655 - acc: 0.9828 - val_loss: 1.2355 - val_acc: 0.8534\n",
      "Epoch 26/50\n",
      "91/91 [==============================] - 17s 190ms/step - loss: 0.0602 - acc: 0.9849 - val_loss: 1.6243 - val_acc: 0.8281\n",
      "Epoch 27/50\n",
      "91/91 [==============================] - 17s 191ms/step - loss: 0.0694 - acc: 0.9818 - val_loss: 1.0939 - val_acc: 0.8691\n",
      "Epoch 28/50\n",
      "91/91 [==============================] - 17s 191ms/step - loss: 0.0691 - acc: 0.9811 - val_loss: 1.3038 - val_acc: 0.8281\n",
      "Epoch 29/50\n",
      "91/91 [==============================] - 17s 189ms/step - loss: 0.0745 - acc: 0.9859 - val_loss: 1.7578 - val_acc: 0.7972\n",
      "Epoch 30/50\n",
      "91/91 [==============================] - 17s 191ms/step - loss: 0.0596 - acc: 0.9818 - val_loss: 1.1205 - val_acc: 0.8633\n",
      "Epoch 31/50\n",
      "91/91 [==============================] - 17s 190ms/step - loss: 0.0536 - acc: 0.9859 - val_loss: 1.2582 - val_acc: 0.8359\n",
      "Epoch 32/50\n",
      "91/91 [==============================] - 17s 191ms/step - loss: 0.0760 - acc: 0.9815 - val_loss: 1.3815 - val_acc: 0.8340\n",
      "Epoch 33/50\n",
      "91/91 [==============================] - 17s 189ms/step - loss: 0.0551 - acc: 0.9883 - val_loss: 1.0757 - val_acc: 0.8594\n",
      "Epoch 34/50\n",
      "91/91 [==============================] - 17s 191ms/step - loss: 0.0467 - acc: 0.9900 - val_loss: 1.6339 - val_acc: 0.8340\n",
      "Epoch 35/50\n",
      "91/91 [==============================] - 17s 190ms/step - loss: 0.0548 - acc: 0.9852 - val_loss: 2.0295 - val_acc: 0.8105\n",
      "Epoch 36/50\n",
      "91/91 [==============================] - 17s 192ms/step - loss: 0.0540 - acc: 0.9880 - val_loss: 1.5074 - val_acc: 0.8320\n",
      "Epoch 37/50\n",
      "91/91 [==============================] - 17s 188ms/step - loss: 0.0483 - acc: 0.9897 - val_loss: 1.4894 - val_acc: 0.8454\n",
      "Epoch 38/50\n",
      "91/91 [==============================] - 17s 191ms/step - loss: 0.0443 - acc: 0.9887 - val_loss: 1.5380 - val_acc: 0.8223\n",
      "Epoch 39/50\n",
      "91/91 [==============================] - 17s 191ms/step - loss: 0.0510 - acc: 0.9873 - val_loss: 1.8378 - val_acc: 0.8008\n",
      "Epoch 40/50\n",
      "91/91 [==============================] - 17s 191ms/step - loss: 0.0775 - acc: 0.9835 - val_loss: 1.3383 - val_acc: 0.8574\n",
      "Epoch 41/50\n",
      "91/91 [==============================] - 17s 189ms/step - loss: 0.0500 - acc: 0.9897 - val_loss: 1.4752 - val_acc: 0.8554\n",
      "Epoch 42/50\n",
      "91/91 [==============================] - 17s 190ms/step - loss: 0.0630 - acc: 0.9880 - val_loss: 1.8589 - val_acc: 0.8242\n",
      "Epoch 43/50\n",
      "91/91 [==============================] - 17s 191ms/step - loss: 0.0548 - acc: 0.9894 - val_loss: 1.6446 - val_acc: 0.8262\n",
      "Epoch 44/50\n",
      "91/91 [==============================] - 17s 191ms/step - loss: 0.0554 - acc: 0.9876 - val_loss: 1.3430 - val_acc: 0.8574\n",
      "Epoch 45/50\n",
      "91/91 [==============================] - 17s 188ms/step - loss: 0.0658 - acc: 0.9866 - val_loss: 1.6450 - val_acc: 0.8353\n",
      "Epoch 46/50\n",
      "91/91 [==============================] - 17s 190ms/step - loss: 0.0400 - acc: 0.9904 - val_loss: 1.9740 - val_acc: 0.8047\n",
      "Epoch 47/50\n",
      "91/91 [==============================] - 17s 191ms/step - loss: 0.0595 - acc: 0.9876 - val_loss: 1.5198 - val_acc: 0.8477\n",
      "Epoch 48/50\n",
      "91/91 [==============================] - 17s 190ms/step - loss: 0.0347 - acc: 0.9911 - val_loss: 1.9970 - val_acc: 0.8047\n",
      "Epoch 49/50\n",
      "91/91 [==============================] - 17s 189ms/step - loss: 0.0453 - acc: 0.9894 - val_loss: 1.5134 - val_acc: 0.8534\n",
      "Epoch 50/50\n",
      "91/91 [==============================] - 17s 191ms/step - loss: 0.0585 - acc: 0.9887 - val_loss: 1.6252 - val_acc: 0.8457\n"
     ]
    }
   ],
   "source": [
    "N_TRAIN = 11745\n",
    "N_VAL = 2066\n",
    "\n",
    "opt = optimizers.RMSprop(lr=0.001, rho=0.9, epsilon=None, decay=0.0)\n",
    "model.compile(optimizer=opt, loss='categorical_crossentropy', metrics=['accuracy'])\n",
    "\n",
    "history = model.fit_generator(\n",
    "train_generator,\n",
    "steps_per_epoch=(N_TRAIN // BATCH_SIZE),\n",
    "epochs=50,\n",
    "validation_data=val_generator,\n",
    "validation_steps=(N_VAL // BATCH_SIZE) \n",
    ")"
   ]
  },
  {
   "cell_type": "code",
   "execution_count": 14,
   "metadata": {
    "_uuid": "de55f2cee7f0e4308ac23af3bec99c3793e500cf",
    "scrolled": true
   },
   "outputs": [
    {
     "data": {
      "image/png": "[encoded data removed]",
      "text/plain": [
       "<Figure size 432x288 with 1 Axes>"
      ]
     },
     "metadata": {
      "needs_background": "light"
     },
     "output_type": "display_data"
    },
    {
     "data": {
      "image/png": "[encoded data removed]",
      "text/plain": [
       "<Figure size 432x288 with 1 Axes>"
      ]
     },
     "metadata": {
      "needs_background": "light"
     },
     "output_type": "display_data"
    }
   ],
   "source": [
    "acc = history.history['acc']\n",
    "val_acc = history.history['val_acc']\n",
    "loss = history.history['loss']\n",
    "val_loss = history.history['val_loss']\n",
    "epochs = range(1, len(acc) + 1)\n",
    "\n",
    "plt.plot(epochs, acc, label='Training accuracy', marker='x')\n",
    "plt.plot(epochs, val_acc, label='Validation accuracy', marker='o')\n",
    "plt.title('Training and validation accuracy')\n",
    "plt.legend()\n",
    "plt.figure()\n",
    "\n",
    "plt.plot(epochs, loss, label='Training loss', marker='x')\n",
    "plt.plot(epochs, val_loss, label='Validation loss', marker='o')\n",
    "plt.title('Training and validation loss')\n",
    "plt.legend()\n",
    "\n",
    "plt.show()"
   ]
  }
 ],
 "metadata": {
  "kernelspec": {
   "display_name": "Python 3",
   "language": "python",
   "name": "python3"
  },
  "language_info": {
   "codemirror_mode": {
    "name": "ipython",
    "version": 3
   },
   "file_extension": ".py",
   "mimetype": "text/x-python",
   "name": "python",
   "nbconvert_exporter": "python",
   "pygments_lexer": "ipython3",
   "version": "3.6.6"
  }
 },
 "nbformat": 4,
 "nbformat_minor": 1
}
