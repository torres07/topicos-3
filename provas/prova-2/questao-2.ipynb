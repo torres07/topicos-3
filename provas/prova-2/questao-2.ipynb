{
  "cells": [
    {
      "metadata": {
        "_uuid": "8f2839f25d086af736a60e9eeb907d3b93b6e0e5",
        "_cell_guid": "b1076dfc-b9ad-4769-8c92-a6c4dae69d19",
        "trusted": true
      },
      "cell_type": "code",
      "source": "import numpy as np # linear algebra\nimport pandas as pd # data processing, CSV file I/O (e.g. pd.read_csv)\n\nimport os\nprint(os.listdir(\"../input\"))",
      "execution_count": 146,
      "outputs": [
        {
          "output_type": "stream",
          "text": "['Womens Clothing E-Commerce Reviews.csv']\n",
          "name": "stdout"
        }
      ]
    },
    {
      "metadata": {
        "_cell_guid": "79c7e3d0-c299-4dcb-8224-4455121ee9b0",
        "_uuid": "d629ff2d2480ee46fbb7e2d37f6b5fab8052498a",
        "trusted": true
      },
      "cell_type": "code",
      "source": "data = pd.read_csv('../input/Womens Clothing E-Commerce Reviews.csv')\ndata = data[['Review Text','Rating']]\ndata = data.dropna() # remocao de valores NaN",
      "execution_count": 147,
      "outputs": []
    },
    {
      "metadata": {
        "_uuid": "4db34d0ea03f995c7dcada654fd1428255ce4070"
      },
      "cell_type": "markdown",
      "source": "# Questão 2a.\n## Cleaning text"
    },
    {
      "metadata": {
        "trusted": true,
        "_uuid": "7c4bd5e8803dc3eb8919645b38e0443052417339"
      },
      "cell_type": "code",
      "source": "import re\nfrom nltk.corpus import stopwords\n\nstop = stopwords.words('english')\n\ndef tokenizer(text):\n    text = re.sub('<[^>]*>', '', text)\n    emoticons = re.findall('(?::|;|=)(?:-)?(?:\\)|\\(|D|P)',\n                       text.lower())\n    text = re.sub('[\\W]+', ' ', text.lower()) \\\n       + ' '.join(emoticons).replace('-', '')\n    tokenized = [w for w in text.split() if w not in stop]\n    \n    output = ''\n    output = output + tokenized[0]\n    for i in tokenized[1:]:\n        output = output + ' ' + i\n        \n    return output",
      "execution_count": 148,
      "outputs": []
    },
    {
      "metadata": {
        "trusted": true,
        "scrolled": true,
        "_uuid": "427a61b59264f1dfbd5b8733fb0ec1664aa8c0d6"
      },
      "cell_type": "code",
      "source": "data['Review Text'].head()",
      "execution_count": 149,
      "outputs": [
        {
          "output_type": "execute_result",
          "execution_count": 149,
          "data": {
            "text/plain": "0    Absolutely wonderful - silky and sexy and comf...\n1    Love this dress!  it's sooo pretty.  i happene...\n2    I had such high hopes for this dress and reall...\n3    I love, love, love this jumpsuit. it's fun, fl...\n4    This shirt is very flattering to all due to th...\nName: Review Text, dtype: object"
          },
          "metadata": {}
        }
      ]
    },
    {
      "metadata": {
        "trusted": true,
        "scrolled": true,
        "_uuid": "5f9906941f94d3827de1900d414fd6eba63cb109"
      },
      "cell_type": "code",
      "source": "data['Review Text'] = data['Review Text'].apply(tokenizer)\ndata['Review Text'].head()",
      "execution_count": 150,
      "outputs": [
        {
          "output_type": "execute_result",
          "execution_count": 150,
          "data": {
            "text/plain": "0          absolutely wonderful silky sexy comfortable\n1    love dress sooo pretty happened find store gla...\n2    high hopes dress really wanted work initially ...\n3    love love love jumpsuit fun flirty fabulous ev...\n4    shirt flattering due adjustable front tie perf...\nName: Review Text, dtype: object"
          },
          "metadata": {}
        }
      ]
    },
    {
      "metadata": {
        "trusted": true,
        "_uuid": "67cce045db7335dcaf9776c6674fba1b157485bd"
      },
      "cell_type": "code",
      "source": "from sklearn.feature_extraction.text import CountVectorizer\nfrom sklearn.feature_extraction.text import TfidfTransformer\n\ncount = CountVectorizer()\n\nbag = count.fit_transform(data['Review Text'])\n\ntfidf = TfidfTransformer()\n\nf_vectors = tfidf.fit_transform(bag)",
      "execution_count": 151,
      "outputs": []
    },
    {
      "metadata": {
        "trusted": true,
        "_uuid": "9e4ee0a0746fefa075945f977e53e713c838e327"
      },
      "cell_type": "code",
      "source": "sample_reviews = data['Review Text'][0], data['Review Text'][11]\nsample_reviews",
      "execution_count": 152,
      "outputs": [
        {
          "output_type": "execute_result",
          "execution_count": 152,
          "data": {
            "text/plain": "('absolutely wonderful silky sexy comfortable',\n 'dress perfection pretty flattering')"
          },
          "metadata": {}
        }
      ]
    },
    {
      "metadata": {
        "trusted": true,
        "_uuid": "c0245efcbfddd2e7bf68bc6c5233830490ccaaa6",
        "scrolled": true
      },
      "cell_type": "code",
      "source": "sample_fvs = f_vectors[0].data, f_vectors[11].data\nsample_fvs",
      "execution_count": 153,
      "outputs": [
        {
          "output_type": "execute_result",
          "execution_count": 153,
          "data": {
            "text/plain": "(array([0.3852131 , 0.47450237, 0.5486825 , 0.5029912 , 0.26908314]),\n array([0.27706178, 0.40779956, 0.34869201, 0.79708856]))"
          },
          "metadata": {}
        }
      ]
    },
    {
      "metadata": {
        "_uuid": "83818435eb42561e67f00ef2875c371d8345d2ca"
      },
      "cell_type": "markdown",
      "source": "# Questão 2b."
    },
    {
      "metadata": {
        "trusted": true,
        "_uuid": "7873cb8c3515692987849837e258d92885fff3ce"
      },
      "cell_type": "code",
      "source": "training_samples = 18111 # Trains on 18111 samples (80%)\ntest_samples = 2264 # Tests on 2264 samples (10%) \nvalidation_samples = 2264 # Validates on 2264 samples (10%)\nlabels = data['Rating'].values\ndata = f_vectors.toarray()",
      "execution_count": 154,
      "outputs": []
    },
    {
      "metadata": {
        "trusted": true,
        "_uuid": "dc01fc35cb12a21c028aa4dcc429fabad4c48bfb"
      },
      "cell_type": "code",
      "source": "x_train = data[:training_samples]\ny_train = labels[:training_samples]\nx_test = data[training_samples:training_samples + test_samples]\ny_test = labels[training_samples:training_samples + test_samples]\nx_val = data[training_samples + test_samples: training_samples + test_samples + validation_samples]\ny_val = labels[training_samples + test_samples: training_samples + test_samples + validation_samples]",
      "execution_count": 155,
      "outputs": []
    },
    {
      "metadata": {
        "trusted": true,
        "_uuid": "d6609bd46234f8994ec7e6c8fd3773e891f5dd27"
      },
      "cell_type": "code",
      "source": "from sklearn.neural_network import MLPClassifier\n\nacc = []\nloss = []\n\nclf = MLPClassifier(learning_rate='constant',\n                    learning_rate_init=0.01, \n                    hidden_layer_sizes=128, \n                    activation='relu', \n                    batch_size=256, \n                    warm_start=True, \n                    max_iter=1)\n\nfor i in range(50):\n    sc = clf.fit(x_train, y_train).score(x_val, y_val)\n    acc.append(sc)\n    loss.append(clf.loss_)\n    print('Accuracy: {} - Loss: {}'.format(sc, clf.loss_))",
      "execution_count": 39,
      "outputs": [
        {
          "output_type": "stream",
          "text": "Accuracy: 0.6139575971731449 - Loss: 0.958352936098112\nAccuracy: 0.6033568904593639 - Loss: 0.6331023861067567\nAccuracy: 0.5781802120141343 - Loss: 0.4248324555412493\nAccuracy: 0.5772968197879859 - Loss: 0.2628684781648509\nAccuracy: 0.5706713780918727 - Loss: 0.1385813600297791\nAccuracy: 0.5693462897526502 - Loss: 0.06151982283194057\nAccuracy: 0.5777385159010601 - Loss: 0.028853727103030212\nAccuracy: 0.5742049469964664 - Loss: 0.016981128916122946\nAccuracy: 0.5746466431095406 - Loss: 0.012937459671917553\nAccuracy: 0.5728798586572438 - Loss: 0.01111549396781352\nAccuracy: 0.575530035335689 - Loss: 0.010341416835374189\nAccuracy: 0.573321554770318 - Loss: 0.009502557866592144\nAccuracy: 0.5719964664310954 - Loss: 0.008948953543313931\nAccuracy: 0.575530035335689 - Loss: 0.008699115105303771\nAccuracy: 0.5737632508833922 - Loss: 0.008134714969369817\nAccuracy: 0.573321554770318 - Loss: 0.007802968329071622\nAccuracy: 0.5746466431095406 - Loss: 0.007512511371303121\nAccuracy: 0.573321554770318 - Loss: 0.007246921109286749\nAccuracy: 0.5746466431095406 - Loss: 0.007003846869690215\nAccuracy: 0.5750883392226148 - Loss: 0.006777058373189382\nAccuracy: 0.5737632508833922 - Loss: 0.00656701661876259\nAccuracy: 0.573321554770318 - Loss: 0.0063684401675096\nAccuracy: 0.5746466431095406 - Loss: 0.006176348406974425\nAccuracy: 0.5746466431095406 - Loss: 0.005994669343296082\nAccuracy: 0.5746466431095406 - Loss: 0.005826787496423597\nAccuracy: 0.575530035335689 - Loss: 0.00566660055114281\nAccuracy: 0.5746466431095406 - Loss: 0.005509697814636408\nAccuracy: 0.5746466431095406 - Loss: 0.005364557732016371\nAccuracy: 0.573321554770318 - Loss: 0.0052297407111869245\nAccuracy: 0.5737632508833922 - Loss: 0.005089443081853402\nAccuracy: 0.5772968197879859 - Loss: 0.0049570988694319215\nAccuracy: 0.575530035335689 - Loss: 0.004834648895274712\nAccuracy: 0.5786219081272085 - Loss: 0.004723396224116217\nAccuracy: 0.5746466431095406 - Loss: 0.004612131541213439\nAccuracy: 0.5768551236749117 - Loss: 0.004510205264545715\nAccuracy: 0.575530035335689 - Loss: 0.0044140011427611136\nAccuracy: 0.5768551236749117 - Loss: 0.004304813083725823\nAccuracy: 0.5772968197879859 - Loss: 0.0042184739985188435\nAccuracy: 0.5746466431095406 - Loss: 0.004135629466595158\nAccuracy: 0.5781802120141343 - Loss: 0.004055487109920886\nAccuracy: 0.5724381625441696 - Loss: 0.004011799685970532\nAccuracy: 0.5485865724381626 - Loss: 0.05867953042509218\nAccuracy: 0.5636042402826855 - Loss: 0.347353417971065\nAccuracy: 0.573321554770318 - Loss: 0.08643955413791712\nAccuracy: 0.5830388692579506 - Loss: 0.025337574988629957\nAccuracy: 0.5821554770318021 - Loss: 0.019908064512477182\nAccuracy: 0.5795053003533569 - Loss: 0.018696840721466657\nAccuracy: 0.5830388692579506 - Loss: 0.017892657208955255\nAccuracy: 0.5834805653710248 - Loss: 0.01722859219410923\nAccuracy: 0.5825971731448764 - Loss: 0.01665268476063787\n",
          "name": "stdout"
        }
      ]
    },
    {
      "metadata": {
        "trusted": true,
        "_uuid": "a60a2afad2ab8ed1cd3c32524f5c73d904590d92"
      },
      "cell_type": "code",
      "source": "from matplotlib import pyplot as plt",
      "execution_count": 42,
      "outputs": []
    },
    {
      "metadata": {
        "trusted": true,
        "scrolled": true,
        "_uuid": "b3676be709afc0052deed3484cddc0ab2380b8da"
      },
      "cell_type": "code",
      "source": "plt.plot(range(1, 51), acc, marker='o', label='Accuracy')\nplt.plot(range(1, 51), loss, marker='x', label='Loss')\nplt.xlabel('Epochs')\nplt.title('Epochs = 50, Learning rate = 0.01')\nplt.legend()\nplt.show()",
      "execution_count": 45,
      "outputs": [
        {
          "output_type": "display_data",
          "data": {
            "text/plain": "<Figure size 432x288 with 1 Axes>",
            "image/png": "[encoded data removed]"
          },
          "metadata": {
            "needs_background": "light"
          }
        }
      ]
    },
    {
      "metadata": {
        "trusted": true,
        "scrolled": true,
        "_uuid": "d0342beda2a4142b30a43371a23da7e5d8a9c1f7"
      },
      "cell_type": "code",
      "source": "accuracy_test = clf.score(x_test, y_test)\nprint('Accuracy for test set: {}'.format(accuracy_test))",
      "execution_count": 47,
      "outputs": [
        {
          "output_type": "stream",
          "text": "Accuracy for test set: 0.5892226148409894\n",
          "name": "stdout"
        }
      ]
    },
    {
      "metadata": {
        "_uuid": "d5c81123b8d8b01d1372b90d1df973d43c0d9d7d"
      },
      "cell_type": "markdown",
      "source": "# Questão 2c."
    },
    {
      "metadata": {
        "trusted": true,
        "_uuid": "492bc5f794bf7dfdca34b23eab35fce55b24ff37"
      },
      "cell_type": "code",
      "source": "from sklearn import preprocessing\n\nle = preprocessing.LabelEncoder()\ny_train = le.fit_transform(y_train)\ny_test = le.fit_transform(y_test)\ny_val = le.fit_transform(y_val)",
      "execution_count": 156,
      "outputs": []
    },
    {
      "metadata": {
        "trusted": true,
        "_uuid": "eb6b8e8cbf4ab7e61a69b3d8406f1967f2874e17"
      },
      "cell_type": "code",
      "source": "from keras.utils import to_categorical\n\ny_train = to_categorical(y_train)\ny_test = to_categorical(y_test)\ny_val = to_categorical(y_val)",
      "execution_count": 157,
      "outputs": []
    },
    {
      "metadata": {
        "trusted": true,
        "_uuid": "96bfae414dd05d663676cc26682c28bb1deeb90a"
      },
      "cell_type": "code",
      "source": "from keras.models import Sequential\nfrom keras.layers import Dense, Conv1D, GlobalMaxPooling1D\nfrom keras.optimizers import RMSprop, Adamax\n\nmodel = Sequential()\nmodel.add(Conv1D(128, 5, input_shape=(14019, 1)))\nmodel.add(GlobalMaxPooling1D())\nmodel.add(Dense(10, activation='relu'))\nmodel.add(Dense(5, activation='sigmoid'))\nmodel.summary()",
      "execution_count": 168,
      "outputs": [
        {
          "output_type": "stream",
          "text": "_________________________________________________________________\nLayer (type)                 Output Shape              Param #   \n=================================================================\nconv1d_24 (Conv1D)           (None, 14015, 128)        768       \n_________________________________________________________________\nglobal_max_pooling1d_7 (Glob (None, 128)               0         \n_________________________________________________________________\ndense_35 (Dense)             (None, 10)                1290      \n_________________________________________________________________\ndense_36 (Dense)             (None, 5)                 55        \n=================================================================\nTotal params: 2,113\nTrainable params: 2,113\nNon-trainable params: 0\n_________________________________________________________________\n",
          "name": "stdout"
        }
      ]
    },
    {
      "metadata": {
        "trusted": true,
        "scrolled": true,
        "_uuid": "03c6b76b2730267d297c3192c06ceaf898e5270b"
      },
      "cell_type": "code",
      "source": "x_train.shape",
      "execution_count": 159,
      "outputs": [
        {
          "output_type": "execute_result",
          "execution_count": 159,
          "data": {
            "text/plain": "(18111, 14019)"
          },
          "metadata": {}
        }
      ]
    },
    {
      "metadata": {
        "trusted": true,
        "_uuid": "4772dc8a804daf39c86f3d7ff2c6e541f478dd6b"
      },
      "cell_type": "code",
      "source": "# data must be in 3d shape to cnn\n\nx_train = np.expand_dims(x_train, axis=2) \nx_val = np.expand_dims(x_val, axis=2) \nx_test = np.expand_dims(x_test, axis=2) ",
      "execution_count": 160,
      "outputs": []
    },
    {
      "metadata": {
        "trusted": true,
        "scrolled": true,
        "_uuid": "cd06496074574ad02c1c13733b22aab61116e094"
      },
      "cell_type": "code",
      "source": "x_train.shape",
      "execution_count": 161,
      "outputs": [
        {
          "output_type": "execute_result",
          "execution_count": 161,
          "data": {
            "text/plain": "(18111, 14019, 1)"
          },
          "metadata": {}
        }
      ]
    },
    {
      "metadata": {
        "trusted": true,
        "scrolled": true,
        "_uuid": "dcca3cf71599c9713b5d93cfc6393fbf6c5a290b"
      },
      "cell_type": "code",
      "source": "opt = RMSprop(lr=0.01, rho=0.9, epsilon=None, decay=0.0)\nmodel.compile(optimizer=opt, loss='categorical_crossentropy', metrics=['acc'])\n\nhistory = model.fit(x_train, y_train,\nepochs=50,\nbatch_size=256,\nvalidation_data=(x_val, y_val))",
      "execution_count": 169,
      "outputs": [
        {
          "output_type": "stream",
          "text": "Train on 18111 samples, validate on 2264 samples\nEpoch 1/50\n18111/18111 [==============================] - 32s 2ms/step - loss: 1.3062 - acc: 0.5480 - val_loss: 1.2117 - val_acc: 0.5574\nEpoch 2/50\n18111/18111 [==============================] - 32s 2ms/step - loss: 1.2212 - acc: 0.5565 - val_loss: 1.2097 - val_acc: 0.5574\nEpoch 3/50\n18111/18111 [==============================] - 32s 2ms/step - loss: 1.2213 - acc: 0.5565 - val_loss: 1.2109 - val_acc: 0.5574\nEpoch 4/50\n18111/18111 [==============================] - 32s 2ms/step - loss: 1.2209 - acc: 0.5565 - val_loss: 1.2108 - val_acc: 0.5574\nEpoch 5/50\n18111/18111 [==============================] - 32s 2ms/step - loss: 1.2211 - acc: 0.5565 - val_loss: 1.2097 - val_acc: 0.5574\nEpoch 6/50\n18111/18111 [==============================] - 32s 2ms/step - loss: 1.2208 - acc: 0.5565 - val_loss: 1.2092 - val_acc: 0.5574\nEpoch 7/50\n18111/18111 [==============================] - 32s 2ms/step - loss: 1.2209 - acc: 0.5565 - val_loss: 1.2097 - val_acc: 0.5574\nEpoch 8/50\n18111/18111 [==============================] - 32s 2ms/step - loss: 1.2215 - acc: 0.5565 - val_loss: 1.2139 - val_acc: 0.5574\nEpoch 9/50\n18111/18111 [==============================] - 32s 2ms/step - loss: 1.2217 - acc: 0.5565 - val_loss: 1.2114 - val_acc: 0.5574\nEpoch 10/50\n18111/18111 [==============================] - 32s 2ms/step - loss: 1.2207 - acc: 0.5565 - val_loss: 1.2101 - val_acc: 0.5574\nEpoch 11/50\n18111/18111 [==============================] - 32s 2ms/step - loss: 1.2202 - acc: 0.5565 - val_loss: 1.2102 - val_acc: 0.5574\nEpoch 12/50\n18111/18111 [==============================] - 32s 2ms/step - loss: 1.2212 - acc: 0.5565 - val_loss: 1.2094 - val_acc: 0.5574\nEpoch 13/50\n18111/18111 [==============================] - 32s 2ms/step - loss: 1.2212 - acc: 0.5565 - val_loss: 1.2115 - val_acc: 0.5574\nEpoch 14/50\n18111/18111 [==============================] - 32s 2ms/step - loss: 1.2211 - acc: 0.5565 - val_loss: 1.2087 - val_acc: 0.5574\nEpoch 15/50\n18111/18111 [==============================] - 32s 2ms/step - loss: 1.2207 - acc: 0.5565 - val_loss: 1.2094 - val_acc: 0.5574\nEpoch 16/50\n18111/18111 [==============================] - 32s 2ms/step - loss: 1.2213 - acc: 0.5565 - val_loss: 1.2095 - val_acc: 0.5574\nEpoch 17/50\n18111/18111 [==============================] - 32s 2ms/step - loss: 1.2207 - acc: 0.5565 - val_loss: 1.2100 - val_acc: 0.5574\nEpoch 18/50\n18111/18111 [==============================] - 32s 2ms/step - loss: 1.2208 - acc: 0.5565 - val_loss: 1.2095 - val_acc: 0.5574\nEpoch 19/50\n18111/18111 [==============================] - 32s 2ms/step - loss: 1.2205 - acc: 0.5565 - val_loss: 1.2087 - val_acc: 0.5574\nEpoch 20/50\n18111/18111 [==============================] - 32s 2ms/step - loss: 1.2210 - acc: 0.5565 - val_loss: 1.2101 - val_acc: 0.5574\nEpoch 21/50\n18111/18111 [==============================] - 32s 2ms/step - loss: 1.2207 - acc: 0.5565 - val_loss: 1.2096 - val_acc: 0.5574\nEpoch 22/50\n18111/18111 [==============================] - 32s 2ms/step - loss: 1.2208 - acc: 0.5565 - val_loss: 1.2110 - val_acc: 0.5574\nEpoch 23/50\n18111/18111 [==============================] - 32s 2ms/step - loss: 1.2209 - acc: 0.5565 - val_loss: 1.2106 - val_acc: 0.5574\nEpoch 24/50\n18111/18111 [==============================] - 32s 2ms/step - loss: 1.2210 - acc: 0.5565 - val_loss: 1.2088 - val_acc: 0.5574\nEpoch 25/50\n18111/18111 [==============================] - 32s 2ms/step - loss: 1.2207 - acc: 0.5565 - val_loss: 1.2087 - val_acc: 0.5574\nEpoch 26/50\n18111/18111 [==============================] - 32s 2ms/step - loss: 1.2207 - acc: 0.5565 - val_loss: 1.2089 - val_acc: 0.5574\nEpoch 27/50\n18111/18111 [==============================] - 32s 2ms/step - loss: 1.2203 - acc: 0.5565 - val_loss: 1.2090 - val_acc: 0.5574\nEpoch 28/50\n18111/18111 [==============================] - 32s 2ms/step - loss: 1.2209 - acc: 0.5565 - val_loss: 1.2120 - val_acc: 0.5574\nEpoch 29/50\n18111/18111 [==============================] - 32s 2ms/step - loss: 1.2204 - acc: 0.5565 - val_loss: 1.2092 - val_acc: 0.5574\nEpoch 30/50\n18111/18111 [==============================] - 32s 2ms/step - loss: 1.2204 - acc: 0.5565 - val_loss: 1.2090 - val_acc: 0.5574\nEpoch 31/50\n18111/18111 [==============================] - 32s 2ms/step - loss: 1.2205 - acc: 0.5565 - val_loss: 1.2090 - val_acc: 0.5574\nEpoch 32/50\n18111/18111 [==============================] - 32s 2ms/step - loss: 1.2211 - acc: 0.5565 - val_loss: 1.2087 - val_acc: 0.5574\nEpoch 33/50\n18111/18111 [==============================] - 32s 2ms/step - loss: 1.2206 - acc: 0.5565 - val_loss: 1.2095 - val_acc: 0.5574\nEpoch 34/50\n18111/18111 [==============================] - 32s 2ms/step - loss: 1.2208 - acc: 0.5565 - val_loss: 1.2089 - val_acc: 0.5574\nEpoch 35/50\n18111/18111 [==============================] - 32s 2ms/step - loss: 1.2205 - acc: 0.5565 - val_loss: 1.2091 - val_acc: 0.5574\nEpoch 36/50\n18111/18111 [==============================] - 32s 2ms/step - loss: 1.2211 - acc: 0.5565 - val_loss: 1.2106 - val_acc: 0.5574\nEpoch 37/50\n18111/18111 [==============================] - 32s 2ms/step - loss: 1.2207 - acc: 0.5565 - val_loss: 1.2091 - val_acc: 0.5574\nEpoch 38/50\n18111/18111 [==============================] - 32s 2ms/step - loss: 1.2209 - acc: 0.5565 - val_loss: 1.2087 - val_acc: 0.5574\nEpoch 39/50\n18111/18111 [==============================] - 32s 2ms/step - loss: 1.2201 - acc: 0.5565 - val_loss: 1.2091 - val_acc: 0.5574\nEpoch 40/50\n18111/18111 [==============================] - 32s 2ms/step - loss: 1.2203 - acc: 0.5565 - val_loss: 1.2085 - val_acc: 0.5574\nEpoch 41/50\n18111/18111 [==============================] - 32s 2ms/step - loss: 1.2205 - acc: 0.5565 - val_loss: 1.2119 - val_acc: 0.5574\nEpoch 42/50\n18111/18111 [==============================] - 32s 2ms/step - loss: 1.2210 - acc: 0.5565 - val_loss: 1.2098 - val_acc: 0.5574\nEpoch 43/50\n18111/18111 [==============================] - 32s 2ms/step - loss: 1.2209 - acc: 0.5565 - val_loss: 1.2083 - val_acc: 0.5574\nEpoch 44/50\n18111/18111 [==============================] - 32s 2ms/step - loss: 1.2205 - acc: 0.5565 - val_loss: 1.2103 - val_acc: 0.5574\nEpoch 45/50\n18111/18111 [==============================] - 32s 2ms/step - loss: 1.2212 - acc: 0.5565 - val_loss: 1.2114 - val_acc: 0.5574\nEpoch 46/50\n18111/18111 [==============================] - 32s 2ms/step - loss: 1.2199 - acc: 0.5565 - val_loss: 1.2107 - val_acc: 0.5574\nEpoch 47/50\n18111/18111 [==============================] - 32s 2ms/step - loss: 1.2207 - acc: 0.5565 - val_loss: 1.2089 - val_acc: 0.5574\nEpoch 48/50\n18111/18111 [==============================] - 32s 2ms/step - loss: 1.2203 - acc: 0.5565 - val_loss: 1.2106 - val_acc: 0.5574\nEpoch 49/50\n18111/18111 [==============================] - 32s 2ms/step - loss: 1.2202 - acc: 0.5565 - val_loss: 1.2093 - val_acc: 0.5574\nEpoch 50/50\n18111/18111 [==============================] - 32s 2ms/step - loss: 1.2208 - acc: 0.5565 - val_loss: 1.2093 - val_acc: 0.5574\n",
          "name": "stdout"
        }
      ]
    },
    {
      "metadata": {
        "trusted": true,
        "_uuid": "3acee3d7824ef943506ca176a7b029bb0802272d"
      },
      "cell_type": "code",
      "source": "acc = history.history['acc']\nval_acc = history.history['val_acc']\nloss = history.history['loss']\nval_loss = history.history['val_loss']\nepochs = range(1, len(acc) + 1)\n\nplt.plot(epochs, acc, label='Training accuracy', marker='x')\nplt.plot(epochs, val_acc, label='Validation accuracy', marker='o')\nplt.title('Training and validation accuracy - CNN')\nplt.legend()\nplt.figure()\n\nplt.plot(epochs, loss, label='Training loss', marker='x')\nplt.plot(epochs, val_loss, label='Validation loss', marker='o')\nplt.title('Training and validation loss - CNN')\nplt.legend()\n\nplt.show()",
      "execution_count": 171,
      "outputs": [
        {
          "output_type": "display_data",
          "data": {
            "text/plain": "<Figure size 432x288 with 1 Axes>",
            "image/png": "[encoded data removed]"
          },
          "metadata": {
            "needs_background": "light"
          }
        },
        {
          "output_type": "display_data",
          "data": {
            "text/plain": "<Figure size 432x288 with 1 Axes>",
            "image/png": "[encoded data removed]"
          },
          "metadata": {
            "needs_background": "light"
          }
        }
      ]
    },
    {
      "metadata": {
        "trusted": true,
        "_uuid": "73b5c14169e525f3d976848c47bc0595627deccd"
      },
      "cell_type": "code",
      "source": "loss, acc = model.evaluate(x=x_test, y=y_test, batch_size=256, verbose=1)\nprint('Loss: {} - Accuracy: {} for test set'.format(loss, acc))",
      "execution_count": 172,
      "outputs": [
        {
          "output_type": "stream",
          "text": "2264/2264 [==============================] - 1s 612us/step\nLoss: 1.254382873592444 - Accuracy: 0.5291519436735146 for test set\n",
          "name": "stdout"
        }
      ]
    }
  ],
  "metadata": {
    "kernelspec": {
      "display_name": "Python 3",
      "language": "python",
      "name": "python3"
    },
    "language_info": {
      "name": "python",
      "version": "3.6.6",
      "mimetype": "text/x-python",
      "codemirror_mode": {
        "name": "ipython",
        "version": 3
      },
      "pygments_lexer": "ipython3",
      "nbconvert_exporter": "python",
      "file_extension": ".py"
    }
  },
  "nbformat": 4,
  "nbformat_minor": 1
}